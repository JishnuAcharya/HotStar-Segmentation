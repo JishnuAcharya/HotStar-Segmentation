{
  "nbformat": 4,
  "nbformat_minor": 0,
  "metadata": {
    "kernelspec": {
      "name": "python3",
      "display_name": "Python 3"
    },
    "language_info": {
      "codemirror_mode": {
        "name": "ipython",
        "version": 3
      },
      "file_extension": ".py",
      "mimetype": "text/x-python",
      "name": "python",
      "nbconvert_exporter": "python",
      "pygments_lexer": "ipython3",
      "version": "3.7.3"
    },
    "colab": {
      "name": "Hotstar_data_cleaning - Copy.ipynb",
      "provenance": [],
      "collapsed_sections": [],
      "toc_visible": true,
      "machine_shape": "hm"
    },
    "accelerator": "GPU"
  },
  "cells": [
    {
      "cell_type": "code",
      "metadata": {
        "id": "T0njbvrWNpyB",
        "colab_type": "code",
        "colab": {}
      },
      "source": [
        "import pandas as pd\n",
        "import numpy as np\n",
        "import seaborn as sns\n",
        "import matplotlib.pyplot as plt\n",
        "import json\n",
        "from pandas.io.json import json_normalize"
      ],
      "execution_count": 0,
      "outputs": []
    },
    {
      "cell_type": "code",
      "metadata": {
        "id": "8be_uo5ANpyP",
        "colab_type": "code",
        "colab": {}
      },
      "source": [
        "from google.colab import drive\n",
        "drive.mount('/content/drive')\n",
        "data=pd.read_csv('/content/drive/My Drive/hotstar_train.csv')\n",
        "data=data.drop('Unnamed: 0',axis=1)"
      ],
      "execution_count": 0,
      "outputs": []
    },
    {
      "cell_type": "code",
      "metadata": {
        "scrolled": true,
        "id": "Wvo6iSaZNpyU",
        "colab_type": "code",
        "colab": {}
      },
      "source": [
        "data.head()"
      ],
      "execution_count": 0,
      "outputs": []
    },
    {
      "cell_type": "markdown",
      "metadata": {
        "id": "NU9vTeuiNpyb",
        "colab_type": "text"
      },
      "source": [
        "## 1.Treating for cities and time"
      ]
    },
    {
      "cell_type": "code",
      "metadata": {
        "id": "XqnciOQGNpye",
        "colab_type": "code",
        "colab": {}
      },
      "source": [
        "df_cities_seg=data[['Train_ID','cities','segment']]"
      ],
      "execution_count": 0,
      "outputs": []
    },
    {
      "cell_type": "code",
      "metadata": {
        "id": "wCXlBRsbNpyi",
        "colab_type": "code",
        "colab": {}
      },
      "source": [
        "x=df_cities_seg"
      ],
      "execution_count": 0,
      "outputs": []
    },
    {
      "cell_type": "code",
      "metadata": {
        "id": "k4RXFujRNpyp",
        "colab_type": "code",
        "colab": {}
      },
      "source": [
        "city=[i for i in x.cities]\n",
        "cities=[]\n",
        "time=[]\n",
        "for i in range(0,len(city)):\n",
        "    t=city[i].split(',')\n",
        "    for j in range(len(t)):\n",
        "        t1=t[j].split(':')\n",
        "        cities.append(t1[0])\n",
        "        time.append(t1[1])\n",
        "time=[int(x) for x in time]"
      ],
      "execution_count": 0,
      "outputs": []
    },
    {
      "cell_type": "code",
      "metadata": {
        "id": "pwOyuXezNpyv",
        "colab_type": "code",
        "colab": {}
      },
      "source": [
        "cities_unique=list(set(cities))"
      ],
      "execution_count": 0,
      "outputs": []
    },
    {
      "cell_type": "markdown",
      "metadata": {
        "id": "QpjhiUAzNpyz",
        "colab_type": "text"
      },
      "source": [
        "#### Function for cleaning"
      ]
    },
    {
      "cell_type": "code",
      "metadata": {
        "id": "NBnh5qETNpy1",
        "colab_type": "code",
        "colab": {}
      },
      "source": [
        "def add_columns(x,col):\n",
        "    for i in range(0,len(col)):\n",
        "        x[col[i]]=np.NaN\n",
        "def add_columns_time(x,col):\n",
        "    for i in range(0,len(col)):\n",
        "        x['time_%s'%col[i]]=np.NaN\n",
        "        \n",
        "# add value to column\n",
        "def value_columns(x):\n",
        "    tt=[]\n",
        "    tc=[]\n",
        "    for i in range(0,len(x)):\n",
        "        t=x.iloc[i,1].split(',')\n",
        "        for j in range(0,len(t)):\n",
        "            t1=t[j].split(':')\n",
        "            #t1.append(t1)\n",
        "            tc.append(t1[0])\n",
        "            tt.append(t1[1])\n",
        "        for j in range(0,len(tc)):\n",
        "            x[tc[j]][i]=1\n",
        "        \n",
        "        tc=[]\n",
        "def value_time(x,col):\n",
        "    city=[]\n",
        "    time=[]\n",
        "    for i in range(0,len(x1)):\n",
        "        temp=x[col][i].split(',')\n",
        "    #    for j in range(0,len(temp)):\n",
        "    #        x2=temp[j]\n",
        "    #        city.append(x2.split(':')[0])\n",
        "    #        time.append(x2.split(':')[1])\n",
        "        for j in range(0,len(temp)):\n",
        "            if x[temp[j].split(':')[0]][i]==1:\n",
        "                x['time_%s'%temp[j].split(':')[0]][i]=temp[j].split(':')[1]\n",
        "                \n",
        "def fill_nulls_time(x):\n",
        "    for i in range(0,len(x)):\n",
        "        for j in range(3,len(x.columns)):\n",
        "    #        print('t')\n",
        "            if x.iloc[i,j]>=0:\n",
        "                #print('t')\n",
        "                x.iloc[i,j]=x.iloc[i,j]\n",
        "            else :\n",
        "                x.iloc[i,j]=0   \n",
        "    \n",
        "def fill_nulls_city(x,cols):\n",
        "    for i in range(0,len(x)):\n",
        "        for j in range(0,len(cols)):\n",
        "    #        print('t')\n",
        "            if x[cols[j]][i]!=1:\n",
        "                #print('t')\n",
        "                x[cols[j]][i]=0\n",
        "def int_to_float(x):\n",
        "    for i in range(0,len(x.columns)):\n",
        "        if x.iloc[:,i].dtypes=='float64':\n",
        "            x.iloc[:,i]=x.iloc[:,i].astype('int')"
      ],
      "execution_count": 0,
      "outputs": []
    },
    {
      "cell_type": "code",
      "metadata": {
        "scrolled": true,
        "id": "7e4WpC6HNpy7",
        "colab_type": "code",
        "colab": {}
      },
      "source": [
        "# Add column to dataframe\n",
        "add_columns(x,cities)"
      ],
      "execution_count": 0,
      "outputs": []
    },
    {
      "cell_type": "code",
      "metadata": {
        "scrolled": true,
        "id": "jh7bQ8s7NpzB",
        "colab_type": "code",
        "colab": {}
      },
      "source": [
        "x.head()"
      ],
      "execution_count": 0,
      "outputs": []
    },
    {
      "cell_type": "code",
      "metadata": {
        "id": "CuupSFYtNpzF",
        "colab_type": "code",
        "colab": {}
      },
      "source": [
        "### Add value to column where it was present"
      ],
      "execution_count": 0,
      "outputs": []
    },
    {
      "cell_type": "code",
      "metadata": {
        "scrolled": true,
        "id": "nN3oMtyoNpzK",
        "colab_type": "code",
        "colab": {}
      },
      "source": [
        "value_columns(x)"
      ],
      "execution_count": 0,
      "outputs": []
    },
    {
      "cell_type": "code",
      "metadata": {
        "id": "1bT3EqDCNpzQ",
        "colab_type": "code",
        "colab": {}
      },
      "source": [
        "x.head()"
      ],
      "execution_count": 0,
      "outputs": []
    },
    {
      "cell_type": "code",
      "metadata": {
        "id": "a12T5iPbNpzU",
        "colab_type": "code",
        "colab": {}
      },
      "source": [
        "#### Replacing the null with 0\n",
        "#fill_nulls_city(x,cities_unique)"
      ],
      "execution_count": 0,
      "outputs": []
    },
    {
      "cell_type": "code",
      "metadata": {
        "id": "oSgLYGFYNpzZ",
        "colab_type": "code",
        "colab": {}
      },
      "source": [
        "# changing float to int\n",
        "for i in range(0,len(x.columns)):\n",
        "    if x.iloc[:,i].dtypes=='float64':\n",
        "        x.iloc[:,i]=x.iloc[:,i].astype('int')"
      ],
      "execution_count": 0,
      "outputs": []
    },
    {
      "cell_type": "code",
      "metadata": {
        "id": "6J8ZnbG-Npze",
        "colab_type": "code",
        "colab": {}
      },
      "source": [
        "x.head()"
      ],
      "execution_count": 0,
      "outputs": []
    },
    {
      "cell_type": "code",
      "metadata": {
        "id": "6CMl4OgLNpzj",
        "colab_type": "code",
        "colab": {}
      },
      "source": [
        "len(cities)"
      ],
      "execution_count": 0,
      "outputs": []
    },
    {
      "cell_type": "code",
      "metadata": {
        "id": "RL-BV2BDNpzp",
        "colab_type": "code",
        "colab": {}
      },
      "source": [
        "# add time with respect to cities\n",
        "add_columns_time(x,cities_unique)"
      ],
      "execution_count": 0,
      "outputs": []
    },
    {
      "cell_type": "code",
      "metadata": {
        "id": "K2mcKStdNpzt",
        "colab_type": "code",
        "colab": {}
      },
      "source": [
        "# fill times value\n",
        "#value_time(x,cities,time)"
      ],
      "execution_count": 0,
      "outputs": []
    },
    {
      "cell_type": "code",
      "metadata": {
        "id": "tHrKbkYjNpzz",
        "colab_type": "code",
        "colab": {}
      },
      "source": [
        "x.head()"
      ],
      "execution_count": 0,
      "outputs": []
    },
    {
      "cell_type": "code",
      "metadata": {
        "id": "ZzAD9QTlNpz8",
        "colab_type": "code",
        "colab": {}
      },
      "source": [
        "# fill null values in time\n",
        "#fill_nulls_time(x)"
      ],
      "execution_count": 0,
      "outputs": []
    },
    {
      "cell_type": "code",
      "metadata": {
        "id": "b0zK6oEvNp0E",
        "colab_type": "code",
        "colab": {}
      },
      "source": [
        "x.head()"
      ],
      "execution_count": 0,
      "outputs": []
    },
    {
      "cell_type": "code",
      "metadata": {
        "id": "cQWH-ycLNp0J",
        "colab_type": "code",
        "colab": {}
      },
      "source": [
        "x1=x.copy()"
      ],
      "execution_count": 0,
      "outputs": []
    },
    {
      "cell_type": "code",
      "metadata": {
        "id": "Q893yzynNp0P",
        "colab_type": "code",
        "colab": {}
      },
      "source": [
        "x1"
      ],
      "execution_count": 0,
      "outputs": []
    },
    {
      "cell_type": "code",
      "metadata": {
        "id": "Kti365C-Np0U",
        "colab_type": "code",
        "colab": {}
      },
      "source": [
        "city=[]\n",
        "time=[]\n",
        "for i in range(0,len(x1)):\n",
        "    temp=x1['cities'][i].split(',')\n",
        "#    for j in range(0,len(temp)):\n",
        "#        x2=temp[j]\n",
        "#        city.append(x2.split(':')[0])\n",
        "#        time.append(x2.split(':')[1])\n",
        "    for j in range(0,len(temp)):\n",
        "        if x1[temp[j].split(':')[0]][i]==1:\n",
        "            x1['time_%s'%temp[j].split(':')[0]][i]=temp[j].split(':')[1]"
      ],
      "execution_count": 0,
      "outputs": []
    },
    {
      "cell_type": "code",
      "metadata": {
        "id": "xBbK-QrDNp0d",
        "colab_type": "code",
        "colab": {}
      },
      "source": [
        "x1.head()"
      ],
      "execution_count": 0,
      "outputs": []
    },
    {
      "cell_type": "code",
      "metadata": {
        "id": "DIAbFsIUNp0k",
        "colab_type": "code",
        "colab": {}
      },
      "source": [
        "# filling nulls in time\n",
        "#fill_nulls_time(x)"
      ],
      "execution_count": 0,
      "outputs": []
    },
    {
      "cell_type": "code",
      "metadata": {
        "id": "qsUecwPWNp0o",
        "colab_type": "code",
        "colab": {}
      },
      "source": [
        "x.head()"
      ],
      "execution_count": 0,
      "outputs": []
    },
    {
      "cell_type": "code",
      "metadata": {
        "id": "l2BgiZ19Np0t",
        "colab_type": "code",
        "colab": {}
      },
      "source": [
        "# changing float to int\n",
        "for i in range(0,len(x.columns)):\n",
        "    if x.iloc[:,i].dtypes=='float64':\n",
        "        x.iloc[:,i]=x.iloc[:,i].astype('int')"
      ],
      "execution_count": 0,
      "outputs": []
    },
    {
      "cell_type": "code",
      "metadata": {
        "scrolled": true,
        "id": "OriWJVz9Np0y",
        "colab_type": "code",
        "colab": {}
      },
      "source": [
        "x.head()"
      ],
      "execution_count": 0,
      "outputs": []
    },
    {
      "cell_type": "code",
      "metadata": {
        "id": "tGT6-42BNp1C",
        "colab_type": "code",
        "colab": {}
      },
      "source": [
        "# storing dataframe in df_cities\n",
        "df_cities=x1.copy()\n",
        "#df_cities.to_csv('hotstar_cities_200000.csv')"
      ],
      "execution_count": 0,
      "outputs": []
    },
    {
      "cell_type": "markdown",
      "metadata": {
        "id": "IYME4pYWNp1K",
        "colab_type": "text"
      },
      "source": [
        "## 2.Treating for day of the week and time"
      ]
    },
    {
      "cell_type": "code",
      "metadata": {
        "id": "cxgo5BcBNp1M",
        "colab_type": "code",
        "colab": {}
      },
      "source": [
        "data.columns"
      ],
      "execution_count": 0,
      "outputs": []
    },
    {
      "cell_type": "code",
      "metadata": {
        "id": "sKVwIzoVNp1S",
        "colab_type": "code",
        "colab": {}
      },
      "source": [
        "x=data[['Train_ID','dow','segment']]"
      ],
      "execution_count": 0,
      "outputs": []
    },
    {
      "cell_type": "code",
      "metadata": {
        "id": "Po-qBuLkNp1W",
        "colab_type": "code",
        "colab": {}
      },
      "source": [
        "## spliting day and time\n",
        "day=[]\n",
        "time=[]\n",
        "for i in range(0,len(x)):\n",
        "    temp=x['dow'][i]\n",
        "    temp=temp.split(',')\n",
        "    for j in range(0,len(temp)):\n",
        "        day.append(temp[j].split(':')[0])\n",
        "        time.append(temp[j].split(':')[1])"
      ],
      "execution_count": 0,
      "outputs": []
    },
    {
      "cell_type": "code",
      "metadata": {
        "id": "G_Pu-zpYNp1a",
        "colab_type": "code",
        "colab": {}
      },
      "source": [
        "x.dow.head()"
      ],
      "execution_count": 0,
      "outputs": []
    },
    {
      "cell_type": "markdown",
      "metadata": {
        "id": "W8iQZgwqNp1e",
        "colab_type": "text"
      },
      "source": [
        "#### function to treat days and time"
      ]
    },
    {
      "cell_type": "code",
      "metadata": {
        "id": "2Aal779rNp1g",
        "colab_type": "code",
        "colab": {}
      },
      "source": [
        "def day_name(l):\n",
        "    #day_name=['Sun','Mon','Tue','Wed','Thu','Fri','Sat']\n",
        "    for i in range(0,len(l)):\n",
        "        if l[i]=='1':\n",
        "            l[i]='Sun'\n",
        "        elif l[i]=='2':\n",
        "            l[i]='Mon'\n",
        "        elif l[i]=='3':\n",
        "            l[i]='Tue'\n",
        "        elif l[i]=='4':\n",
        "            l[i]='Wed'\n",
        "        elif l[i]=='5':\n",
        "            l[i]='Thu'\n",
        "        elif l[i]=='6':\n",
        "            l[i]='Fri'\n",
        "        else:\n",
        "            l[i]='Sat'"
      ],
      "execution_count": 0,
      "outputs": []
    },
    {
      "cell_type": "code",
      "metadata": {
        "id": "Lt_vYCE-Np1l",
        "colab_type": "code",
        "colab": {}
      },
      "source": [
        "#changing days to day name\n",
        "day_name(day)"
      ],
      "execution_count": 0,
      "outputs": []
    },
    {
      "cell_type": "code",
      "metadata": {
        "id": "uFxcCCNSNp1p",
        "colab_type": "code",
        "colab": {}
      },
      "source": [
        "day_unique=list(set(day))"
      ],
      "execution_count": 0,
      "outputs": []
    },
    {
      "cell_type": "code",
      "metadata": {
        "id": "K-A9txNNNp1v",
        "colab_type": "code",
        "colab": {}
      },
      "source": [
        "add_columns(x,day_unique)"
      ],
      "execution_count": 0,
      "outputs": []
    },
    {
      "cell_type": "code",
      "metadata": {
        "id": "aRzxwj0cNp1z",
        "colab_type": "code",
        "colab": {}
      },
      "source": [
        "day[:10]"
      ],
      "execution_count": 0,
      "outputs": []
    },
    {
      "cell_type": "code",
      "metadata": {
        "id": "mtq8GbxENp12",
        "colab_type": "code",
        "colab": {}
      },
      "source": [
        "x.head(10)"
      ],
      "execution_count": 0,
      "outputs": []
    },
    {
      "cell_type": "code",
      "metadata": {
        "id": "N-sNz3SjNp17",
        "colab_type": "code",
        "colab": {}
      },
      "source": [
        "# filling values to the columns\n",
        "for i in range(0,len(x)):\n",
        "    day_t=[]\n",
        "    s=x.dow[i]\n",
        "    s=s.split(',')\n",
        "    for j in range(0,len(s)):\n",
        "        d=s[j].split(':')[0]\n",
        "        t=s[j].split(':')[1]\n",
        "        if d=='1':\n",
        "            d='Sun'\n",
        "        elif d=='2':\n",
        "            d='Mon'\n",
        "        elif d=='3':\n",
        "            d='Tue'\n",
        "        elif d=='4':\n",
        "            d='Wed'\n",
        "        elif d=='5':\n",
        "            d='Thu'\n",
        "        elif d=='6':\n",
        "            d='Fri'\n",
        "        else:\n",
        "            d='Sat'\n",
        "        day_t.append(d)\n",
        "        for k in range(0,len(day_t)):\n",
        "            x[day_t[k]][i]=1\n",
        "        \n",
        "        "
      ],
      "execution_count": 0,
      "outputs": []
    },
    {
      "cell_type": "code",
      "metadata": {
        "id": "QqG626koNp2A",
        "colab_type": "code",
        "colab": {}
      },
      "source": [
        "# filling the nulls with 0\n",
        "#fill_nulls_city(x,day_unique)"
      ],
      "execution_count": 0,
      "outputs": []
    },
    {
      "cell_type": "code",
      "metadata": {
        "id": "OdsI5wY-Np2I",
        "colab_type": "code",
        "colab": {}
      },
      "source": [
        "x.head(10)"
      ],
      "execution_count": 0,
      "outputs": []
    },
    {
      "cell_type": "code",
      "metadata": {
        "id": "3sM2wJAjNp2R",
        "colab_type": "code",
        "colab": {}
      },
      "source": [
        "# changing data type from float to int\n",
        "int_to_float(x)"
      ],
      "execution_count": 0,
      "outputs": []
    },
    {
      "cell_type": "code",
      "metadata": {
        "id": "XiJUYqWONp2Z",
        "colab_type": "code",
        "colab": {}
      },
      "source": [
        "x.head(10)"
      ],
      "execution_count": 0,
      "outputs": []
    },
    {
      "cell_type": "code",
      "metadata": {
        "id": "6QfEPHjRNp2i",
        "colab_type": "code",
        "colab": {}
      },
      "source": [
        "## adding columns for time\n",
        "add_columns_time(x,day_unique)"
      ],
      "execution_count": 0,
      "outputs": []
    },
    {
      "cell_type": "code",
      "metadata": {
        "id": "iW3_i8jNNp2m",
        "colab_type": "code",
        "colab": {}
      },
      "source": [
        "x.head()"
      ],
      "execution_count": 0,
      "outputs": []
    },
    {
      "cell_type": "code",
      "metadata": {
        "id": "cSQzY74qNp2r",
        "colab_type": "code",
        "colab": {}
      },
      "source": [
        "## fill the value of time\n",
        "\n",
        "for i in range(0,len(x1)):\n",
        "    temp=x['dow'][i].split(',')\n",
        "    for j in range(0,len(temp)):\n",
        "        d=temp[j].split(':')[0]\n",
        "        if d=='1':\n",
        "            d='Sun'\n",
        "        elif d=='2':\n",
        "            d='Mon'\n",
        "        elif d=='3':\n",
        "            d='Tue'\n",
        "        elif d=='4':\n",
        "            d='Wed'\n",
        "        elif d=='5':\n",
        "            d='Thu'\n",
        "        elif d=='6':\n",
        "            d='Fri'\n",
        "        else:\n",
        "            d='Sat'\n",
        "        if x[d][i]==1:\n",
        "            x['time_%s'%d][i]=temp[j].split(':')[1]"
      ],
      "execution_count": 0,
      "outputs": []
    },
    {
      "cell_type": "code",
      "metadata": {
        "id": "QiEv7bfUNp2w",
        "colab_type": "code",
        "colab": {}
      },
      "source": [
        "x.head()"
      ],
      "execution_count": 0,
      "outputs": []
    },
    {
      "cell_type": "code",
      "metadata": {
        "id": "uqsOca_sNp22",
        "colab_type": "code",
        "colab": {}
      },
      "source": [
        "## fill the values of nulls with 0\n",
        "#fill_nulls_time(x)"
      ],
      "execution_count": 0,
      "outputs": []
    },
    {
      "cell_type": "code",
      "metadata": {
        "id": "CM6R-yE7Np27",
        "colab_type": "code",
        "colab": {}
      },
      "source": [
        "x.head()"
      ],
      "execution_count": 0,
      "outputs": []
    },
    {
      "cell_type": "code",
      "metadata": {
        "id": "Ck74s-J1Np3A",
        "colab_type": "code",
        "colab": {}
      },
      "source": [
        "## changing float to int\n",
        "int_to_float(x)"
      ],
      "execution_count": 0,
      "outputs": []
    },
    {
      "cell_type": "code",
      "metadata": {
        "id": "E7-PG839Np3F",
        "colab_type": "code",
        "colab": {}
      },
      "source": [
        "x.head()"
      ],
      "execution_count": 0,
      "outputs": []
    },
    {
      "cell_type": "code",
      "metadata": {
        "id": "mpbkQJuhNp3K",
        "colab_type": "code",
        "colab": {}
      },
      "source": [
        "x.columns"
      ],
      "execution_count": 0,
      "outputs": []
    },
    {
      "cell_type": "code",
      "metadata": {
        "id": "eEcM8AGuNp3N",
        "colab_type": "code",
        "colab": {}
      },
      "source": [
        "x.head()"
      ],
      "execution_count": 0,
      "outputs": []
    },
    {
      "cell_type": "code",
      "metadata": {
        "id": "o5rTg_v_Np3P",
        "colab_type": "code",
        "colab": {}
      },
      "source": [
        "df_days=x.copy()\n",
        "#df_days.to_csv('hotstar_days_200000.csv')"
      ],
      "execution_count": 0,
      "outputs": []
    },
    {
      "cell_type": "markdown",
      "metadata": {
        "id": "0OMEq-97Np3S",
        "colab_type": "text"
      },
      "source": [
        "## 3.Treating the values for genres"
      ]
    },
    {
      "cell_type": "code",
      "metadata": {
        "id": "vTyivAB0Np3T",
        "colab_type": "code",
        "colab": {}
      },
      "source": [
        "x=data[['Train_ID','genres','segment']]"
      ],
      "execution_count": 0,
      "outputs": []
    },
    {
      "cell_type": "code",
      "metadata": {
        "id": "o9a4CjYsNp3W",
        "colab_type": "code",
        "colab": {}
      },
      "source": [
        "x.head()"
      ],
      "execution_count": 0,
      "outputs": []
    },
    {
      "cell_type": "code",
      "metadata": {
        "id": "hfPZo2_0Np3b",
        "colab_type": "code",
        "colab": {}
      },
      "source": [
        "genre=[]\n",
        "time=[]\n",
        "for i in range(0,len(x)):\n",
        "    gen=x['genres'][i].split(',')\n",
        "    for j in range(0,len(gen)):\n",
        "        genre.append(gen[j].split(':')[0])\n",
        "        time.append(gen[j].split(':')[1])"
      ],
      "execution_count": 0,
      "outputs": []
    },
    {
      "cell_type": "code",
      "metadata": {
        "id": "WEeMRy1jNp3g",
        "colab_type": "code",
        "colab": {}
      },
      "source": [
        "time=[int(x) for x in time]"
      ],
      "execution_count": 0,
      "outputs": []
    },
    {
      "cell_type": "code",
      "metadata": {
        "id": "KuGl2r_PNp3m",
        "colab_type": "code",
        "colab": {}
      },
      "source": [
        "genre_unique=list(set(genre))"
      ],
      "execution_count": 0,
      "outputs": []
    },
    {
      "cell_type": "code",
      "metadata": {
        "id": "e7od9zmENp3q",
        "colab_type": "code",
        "colab": {}
      },
      "source": [
        "# adding columns for genre\n",
        "add_columns(x,genre_unique)"
      ],
      "execution_count": 0,
      "outputs": []
    },
    {
      "cell_type": "code",
      "metadata": {
        "id": "TQeF-ilFNp3v",
        "colab_type": "code",
        "colab": {}
      },
      "source": [
        "x.head()"
      ],
      "execution_count": 0,
      "outputs": []
    },
    {
      "cell_type": "code",
      "metadata": {
        "id": "YMqgL0vcNp3z",
        "colab_type": "code",
        "colab": {}
      },
      "source": [
        "# adding value for genre\n",
        "value_columns(x)"
      ],
      "execution_count": 0,
      "outputs": []
    },
    {
      "cell_type": "code",
      "metadata": {
        "id": "MJDIVMbHNp32",
        "colab_type": "code",
        "colab": {}
      },
      "source": [
        "x.head()"
      ],
      "execution_count": 0,
      "outputs": []
    },
    {
      "cell_type": "code",
      "metadata": {
        "id": "xfuE8e0HNp34",
        "colab_type": "code",
        "colab": {}
      },
      "source": [
        "# filling nulls in genre\n",
        "#fill_nulls_city(x,genre_unique)"
      ],
      "execution_count": 0,
      "outputs": []
    },
    {
      "cell_type": "code",
      "metadata": {
        "id": "MnqNQgnFNp3-",
        "colab_type": "code",
        "colab": {}
      },
      "source": [
        "x.head()"
      ],
      "execution_count": 0,
      "outputs": []
    },
    {
      "cell_type": "code",
      "metadata": {
        "id": "jodptu4dNp4F",
        "colab_type": "code",
        "colab": {}
      },
      "source": [
        "# changing floats to int\n",
        "int_to_float(x)"
      ],
      "execution_count": 0,
      "outputs": []
    },
    {
      "cell_type": "code",
      "metadata": {
        "id": "sv_oMboUNp4J",
        "colab_type": "code",
        "colab": {}
      },
      "source": [
        "# adding columns for time\n",
        "add_columns_time(x,genre_unique)"
      ],
      "execution_count": 0,
      "outputs": []
    },
    {
      "cell_type": "code",
      "metadata": {
        "id": "C5bkWZ1yNp4N",
        "colab_type": "code",
        "colab": {}
      },
      "source": [
        "x.head()"
      ],
      "execution_count": 0,
      "outputs": []
    },
    {
      "cell_type": "code",
      "metadata": {
        "id": "xYcI2jM4Np4R",
        "colab_type": "code",
        "colab": {}
      },
      "source": [
        "# adding values for time\n",
        "for i in range(0,len(x)):\n",
        "    temp=x['genres'][i].split(',')\n",
        "    #    for j in range(0,len(temp)):\n",
        "    #        x2=temp[j]\n",
        "    #        city.append(x2.split(':')[0])\n",
        "    #        time.append(x2.split(':')[1])\n",
        "    for j in range(0,len(temp)):\n",
        "        if x[temp[j].split(':')[0]][i]==1:\n",
        "            x['time_%s'%temp[j].split(':')[0]][i]=temp[j].split(':')[1]\n"
      ],
      "execution_count": 0,
      "outputs": []
    },
    {
      "cell_type": "code",
      "metadata": {
        "id": "zXnMIrgdNp4U",
        "colab_type": "code",
        "colab": {}
      },
      "source": [
        "x.head()"
      ],
      "execution_count": 0,
      "outputs": []
    },
    {
      "cell_type": "code",
      "metadata": {
        "id": "f1pO9BtSNp4X",
        "colab_type": "code",
        "colab": {}
      },
      "source": [
        "# fill nulls for time\n",
        "#fill_nulls_time(x)"
      ],
      "execution_count": 0,
      "outputs": []
    },
    {
      "cell_type": "code",
      "metadata": {
        "id": "J2xFK73INp4c",
        "colab_type": "code",
        "colab": {}
      },
      "source": [
        "x.head()"
      ],
      "execution_count": 0,
      "outputs": []
    },
    {
      "cell_type": "code",
      "metadata": {
        "id": "HFyNGDnFNp4g",
        "colab_type": "code",
        "colab": {}
      },
      "source": [
        "# converting float to int\n",
        "int_to_float(x)"
      ],
      "execution_count": 0,
      "outputs": []
    },
    {
      "cell_type": "code",
      "metadata": {
        "id": "dSOkOX7QNp4k",
        "colab_type": "code",
        "colab": {}
      },
      "source": [
        "x.head()"
      ],
      "execution_count": 0,
      "outputs": []
    },
    {
      "cell_type": "code",
      "metadata": {
        "id": "cvfJ_zPZNp4n",
        "colab_type": "code",
        "colab": {}
      },
      "source": [
        "x.columns=[            'Train_ID',               'genres',              'segment',\n",
        "                     'Comedy',               'Action',            'Badminton',\n",
        "                    'Reality',             'Wildlife',                 'Kids',\n",
        "                      'Sport',              'Romance',             'Formula1',\n",
        "                   'Thriller',                'Drama',                 'Teen',\n",
        "                   'Football',               'Awards',              'Cricket',\n",
        "                      'Crime',               'LiveTV',               'Travel',\n",
        "                   'TalkShow',            'Mythology',               'Family',\n",
        "                    'Science','time_Comedy',    'time_Action',\n",
        "'time_Badminton',   'time_Reality',  'time_Wildlife',\n",
        "            'time_Kids',     'time_Sport',   'time_Romance',\n",
        "        'time_Formula1',  'time_Thriller',     'time_Drama',\n",
        "            'time_Teen',  'time_Football',    'time_Awards',\n",
        "         'time_Cricket',     'time_Crime',    'time_LiveTV',\n",
        "          'time_Travel',  'time_TalkShow', 'time_Mythology',\n",
        "          'time_Family',   'time_Science']"
      ],
      "execution_count": 0,
      "outputs": []
    },
    {
      "cell_type": "code",
      "metadata": {
        "id": "lBG1to09Np4p",
        "colab_type": "code",
        "colab": {}
      },
      "source": [
        "df_genre=x.copy()"
      ],
      "execution_count": 0,
      "outputs": []
    },
    {
      "cell_type": "code",
      "metadata": {
        "id": "QVGy4XO2Np4s",
        "colab_type": "code",
        "colab": {}
      },
      "source": [
        "\n",
        "df_genre.to_csv('Hotstar_genre_20000.csv')"
      ],
      "execution_count": 0,
      "outputs": []
    },
    {
      "cell_type": "code",
      "metadata": {
        "id": "tTU8DgReNp4v",
        "colab_type": "code",
        "colab": {}
      },
      "source": [
        "df=pd.merge(df_cities,df_days,on=['Train_ID','segment'],how='inner')\n",
        "df=pd.merge(df,df_genre,on=['Train_ID','segment'],how='inner')\n",
        "df.to_csv('Hotstar_final.csv')"
      ],
      "execution_count": 0,
      "outputs": []
    },
    {
      "cell_type": "markdown",
      "metadata": {
        "id": "3NZgi8HxmHyJ",
        "colab_type": "text"
      },
      "source": [
        "## 4.Treating for hour of the day"
      ]
    },
    {
      "cell_type": "code",
      "metadata": {
        "id": "152Mu4EDmDez",
        "colab_type": "code",
        "colab": {}
      },
      "source": [
        "data.head()"
      ],
      "execution_count": 0,
      "outputs": []
    },
    {
      "cell_type": "code",
      "metadata": {
        "id": "o1vajgyKpuXq",
        "colab_type": "code",
        "colab": {}
      },
      "source": [
        "df_time=data[['Train_ID','segment','tod']]"
      ],
      "execution_count": 0,
      "outputs": []
    },
    {
      "cell_type": "code",
      "metadata": {
        "id": "674htANzqX9Q",
        "colab_type": "code",
        "colab": {}
      },
      "source": [
        "df_time.head()"
      ],
      "execution_count": 0,
      "outputs": []
    },
    {
      "cell_type": "code",
      "metadata": {
        "id": "wmVJSXD85vWF",
        "colab_type": "code",
        "colab": {}
      },
      "source": [
        "x=df_time\n",
        "genre=[]\n",
        "time=[]\n",
        "for i in range(0,len(x)):\n",
        "    gen=x['tod'][i].split(',')\n",
        "    for j in range(0,len(gen)):\n",
        "        genre.append(gen[j].split(':')[0])\n",
        "        time.append(gen[j].split(':')[1])"
      ],
      "execution_count": 0,
      "outputs": []
    },
    {
      "cell_type": "code",
      "metadata": {
        "id": "Ib06TBTm6SoE",
        "colab_type": "code",
        "colab": {}
      },
      "source": [
        "time=[int(x) for x in time]\n",
        "genre_unique=list(set(genre))"
      ],
      "execution_count": 0,
      "outputs": []
    },
    {
      "cell_type": "code",
      "metadata": {
        "id": "dtCP1JuD6X4z",
        "colab_type": "code",
        "colab": {}
      },
      "source": [
        "add_columns(x,genre_unique)"
      ],
      "execution_count": 0,
      "outputs": []
    },
    {
      "cell_type": "code",
      "metadata": {
        "id": "HjnAIM0f654a",
        "colab_type": "code",
        "colab": {}
      },
      "source": [
        "    tt=[]\n",
        "    tc=[]\n",
        "    for i in range(0,len(x)):\n",
        "        t=x.iloc[i,2].split(',')\n",
        "        for j in range(0,len(t)):\n",
        "            t1=t[j].split(':')\n",
        "            #t1.append(t1)\n",
        "            tc.append(t1[0])\n",
        "            tt.append(t1[1])\n",
        "        for j in range(0,len(tc)):\n",
        "            x[tc[j]][i]=1\n",
        "        \n",
        "        tc=[]"
      ],
      "execution_count": 0,
      "outputs": []
    },
    {
      "cell_type": "code",
      "metadata": {
        "id": "jyUy6cIb7YvR",
        "colab_type": "code",
        "colab": {}
      },
      "source": [
        "x.head()"
      ],
      "execution_count": 0,
      "outputs": []
    },
    {
      "cell_type": "code",
      "metadata": {
        "id": "l-BzoLeR7t5P",
        "colab_type": "code",
        "colab": {}
      },
      "source": [
        "# adding columns for time\n",
        "add_columns_time(x,genre_unique)"
      ],
      "execution_count": 0,
      "outputs": []
    },
    {
      "cell_type": "code",
      "metadata": {
        "id": "yIWUfxHK9d-C",
        "colab_type": "code",
        "colab": {}
      },
      "source": [
        "x.head()"
      ],
      "execution_count": 0,
      "outputs": []
    },
    {
      "cell_type": "code",
      "metadata": {
        "id": "Z5Yz00jl9foW",
        "colab_type": "code",
        "colab": {}
      },
      "source": [
        "# adding values for time\n",
        "for i in range(0,len(x)):\n",
        "    temp=x['tod'][i].split(',')\n",
        "    for j in range(0,len(temp)):\n",
        "        if x[temp[j].split(':')[0]][i]==1:\n",
        "            x['time_%s'%temp[j].split(':')[0]][i]=temp[j].split(':')[1]"
      ],
      "execution_count": 0,
      "outputs": []
    },
    {
      "cell_type": "code",
      "metadata": {
        "id": "2Tvht-2396Z7",
        "colab_type": "code",
        "colab": {}
      },
      "source": [
        "x.head()"
      ],
      "execution_count": 0,
      "outputs": []
    },
    {
      "cell_type": "code",
      "metadata": {
        "id": "Df3Gj8gi7bbT",
        "colab_type": "code",
        "colab": {}
      },
      "source": [
        "df_time=x.copy()\n",
        "df_time.to_csv('Hotstar_time_200000.csv')"
      ],
      "execution_count": 0,
      "outputs": []
    },
    {
      "cell_type": "code",
      "metadata": {
        "id": "S797Jao87bxQ",
        "colab_type": "code",
        "colab": {}
      },
      "source": [
        ""
      ],
      "execution_count": 0,
      "outputs": []
    },
    {
      "cell_type": "markdown",
      "metadata": {
        "id": "s7V0fXQtSwjO",
        "colab_type": "text"
      },
      "source": [
        "### Merging all data"
      ]
    },
    {
      "cell_type": "code",
      "metadata": {
        "id": "wnEXG2hTS1Ap",
        "colab_type": "code",
        "colab": {}
      },
      "source": [
        "df_time.head()"
      ],
      "execution_count": 0,
      "outputs": []
    },
    {
      "cell_type": "code",
      "metadata": {
        "id": "qahwMt0ATHfU",
        "colab_type": "code",
        "colab": {}
      },
      "source": [
        "df_genre.head()"
      ],
      "execution_count": 0,
      "outputs": []
    },
    {
      "cell_type": "code",
      "metadata": {
        "id": "t6wfZn-qTJ3U",
        "colab_type": "code",
        "colab": {}
      },
      "source": [
        "df_cities.head()"
      ],
      "execution_count": 0,
      "outputs": []
    },
    {
      "cell_type": "code",
      "metadata": {
        "id": "ChD9CJ8CTMmY",
        "colab_type": "code",
        "colab": {}
      },
      "source": [
        "df_days.head()"
      ],
      "execution_count": 0,
      "outputs": []
    },
    {
      "cell_type": "code",
      "metadata": {
        "id": "tcwHCgNuTbIO",
        "colab_type": "code",
        "colab": {}
      },
      "source": [
        "df=pd.DataFrame()\n",
        "df=pd.merge(df_cities,df_days,on=['Train_ID','segment'],how='inner')\n",
        "df=pd.merge(df,df_genre,on=['Train_ID','segment'],how='inner')\n",
        "df=pd.merge(df,df_time,on=['Train_ID','segment'],how='inner')"
      ],
      "execution_count": 0,
      "outputs": []
    },
    {
      "cell_type": "code",
      "metadata": {
        "id": "mn8Hwn2JTmxW",
        "colab_type": "code",
        "colab": {}
      },
      "source": [
        "df.head()"
      ],
      "execution_count": 0,
      "outputs": []
    },
    {
      "cell_type": "code",
      "metadata": {
        "id": "JtWfgRTaToVc",
        "colab_type": "code",
        "colab": {}
      },
      "source": [
        "df.to_csv('HOTSTAR.csv')\n",
        "!cp HOTSTAR.csv drive/My\\ Drive/"
      ],
      "execution_count": 0,
      "outputs": []
    },
    {
      "cell_type": "code",
      "metadata": {
        "id": "vOEZktxwicNn",
        "colab_type": "code",
        "colab": {}
      },
      "source": [
        "df=df.fillna(0)"
      ],
      "execution_count": 0,
      "outputs": []
    },
    {
      "cell_type": "code",
      "metadata": {
        "id": "P1bCrR_Dif0d",
        "colab_type": "code",
        "colab": {}
      },
      "source": [
        "df.head()"
      ],
      "execution_count": 0,
      "outputs": []
    },
    {
      "cell_type": "code",
      "metadata": {
        "id": "n3A2tvO-imQ2",
        "colab_type": "code",
        "colab": {}
      },
      "source": [
        "int_to_float(df)"
      ],
      "execution_count": 0,
      "outputs": []
    },
    {
      "cell_type": "code",
      "metadata": {
        "id": "v0zxWdP3_WzV",
        "colab_type": "code",
        "colab": {}
      },
      "source": [
        ""
      ],
      "execution_count": 0,
      "outputs": []
    }
  ]
}